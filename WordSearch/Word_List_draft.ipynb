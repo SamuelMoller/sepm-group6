{
  "nbformat": 4,
  "nbformat_minor": 0,
  "metadata": {
    "colab": {
      "provenance": []
    },
    "kernelspec": {
      "name": "python3",
      "display_name": "Python 3"
    },
    "language_info": {
      "name": "python"
    }
  },
  "cells": [
    {
      "cell_type": "code",
      "source": [
        "import backend # Backend library\n",
        "\n",
        "class WordList:\n",
        "    def __init__(self):\n",
        "        self.swedish = []\n",
        "        self.english = []\n",
        "        self.hints = []\n",
        "\n",
        "    def fetch_data(self, category):\n",
        "        data = backend.get_words_by_category(category)\n",
        "        self.swedish = data.get(\"swedish\", [])\n",
        "        self.english = data.get(\"english\", [])\n",
        "        self.hints = data.get(\"hints\", [])\n",
        "\n",
        "    def get_lists(self):\n",
        "        \"Rerurns the three lists\"\n",
        "        return self.swedish, self.english, self.hints\n",
        "\n",
        "    def get_list_of_lists(self):\n",
        "        \"If we want to return a single list containing the three lists.\"\n",
        "        return [self.swedish, self.english, self.hints]"
      ],
      "metadata": {
        "id": "8fuZVS1BlLQb"
      },
      "execution_count": 12,
      "outputs": []
    },
    {
      "cell_type": "code",
      "source": [
        "if __name__ == \"__main__\":\n",
        "    word_list = WordList()\n",
        "\n",
        "    category = \"food\"\n",
        "    word_list.fetch_data(category)\n",
        "    word_lists = word_list.get_list_of_lists()\n",
        "    print(f\"Category: {category}\")\n",
        "    print(\"List of Lists:\", word_lists)\n",
        "\n",
        "    category = \"clothes\"\n",
        "    word_list.fetch_data(category)\n",
        "    swedish_words, english_words, hints = word_list.get_lists()\n",
        "    print(f\"\\nCategory: {category}\")\n",
        "    print(\"Swedish:\", swedish_words)\n",
        "    print(\"English:\", english_words)\n",
        "    print(\"Hints:\", hints)"
      ],
      "metadata": {
        "colab": {
          "base_uri": "https://localhost:8080/"
        },
        "id": "LbM4rxSkmwi1",
        "outputId": "d4198625-468f-4b63-f6fb-2dcae997c8a3"
      },
      "execution_count": 13,
      "outputs": [
        {
          "output_type": "stream",
          "name": "stdout",
          "text": [
            "Category: food\n",
            "List of Lists: [['äpple', 'bröd'], ['apple', 'bread'], []]\n",
            "\n",
            "Category: clothes\n",
            "Swedish: ['jacka', 'byxor']\n",
            "English: ['jacket', 'pants']\n",
            "Hints: []\n"
          ]
        }
      ]
    }
  ]
}